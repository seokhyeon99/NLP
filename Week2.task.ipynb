{
 "cells": [
  {
   "cell_type": "markdown",
   "metadata": {},
   "source": [
    "**Brainstorm:** the following code does not work as expected. Do you know why? Fix it!"
   ]
  },
  {
   "cell_type": "code",
   "execution_count": 1,
   "metadata": {},
   "outputs": [
    {
     "name": "stdout",
     "output_type": "stream",
     "text": [
      "A\n"
     ]
    }
   ],
   "source": [
    "score = 98.0\n",
    "if score >= 90.0:\n",
    "    grade = 'A'\n",
    "elif scorec >= 80.0:\n",
    "    grade = 'B'\n",
    "elif score >= 70.0:\n",
    "    grade = 'C'\n",
    "elif score >= 60.0:\n",
    "    grade = 'D'\n",
    "else:\n",
    "    grade = 'F'\n",
    "print(grade)"
   ]
  },
  {
   "cell_type": "markdown",
   "metadata": {},
   "source": [
    "**Brainstorm:** write a script that generates a personal title in English. When the addressee is a male person, we will use \"Mr.\", when it is a young girl \"Miss\", when it is a married woman \"Mrs.\" plus the name of her husband, and when the marital status is unknown or we think that a neutral title is better, \"Ms.\"."
   ]
  },
  {
   "cell_type": "code",
   "execution_count": 8,
   "metadata": {},
   "outputs": [
    {
     "name": "stdout",
     "output_type": "stream",
     "text": [
      "Mrs. John\n"
     ]
    }
   ],
   "source": [
    "name = 'Sarah'\n",
    "name_partner = 'John'\n",
    "gender = 'F' # Choose between M and F\n",
    "status = 'married' \n",
    "\n",
    "\n",
    "if gender == 'M':\n",
    "    title = 'Mr.'\n",
    "elif status == 'young':\n",
    "    title = 'Miss '\n",
    "elif status == 'married':\n",
    "    title = 'Mrs.'\n",
    "    name = name_partner\n",
    "else:\n",
    "    title = 'Ms.'\n",
    "\n",
    "print(title+name)"
   ]
  },
  {
   "cell_type": "code",
   "execution_count": 1,
   "metadata": {},
   "outputs": [
    {
     "name": "stdout",
     "output_type": "stream",
     "text": [
      "name: Sarah\n",
      "gender(M/F): F\n",
      "Are you married?(Y/N): Y\n",
      "Your partner's name: John\n",
      "Mrs.John\n"
     ]
    }
   ],
   "source": [
    "name = input('name: ')\n",
    "gender = input('gender(M/F): ')\n",
    "status = input('Are you married?(Y/N): ')\n",
    "\n",
    "if gender == 'M':\n",
    "    title = 'Mr.'\n",
    "elif status == 'N':\n",
    "    title = 'Miss '\n",
    "elif status == 'Y':\n",
    "    title = 'Mrs.'\n",
    "    name_partner = input(\"Your partner's name: \")\n",
    "    name = name_partner\n",
    "else:\n",
    "    title = 'Ms.'\n",
    "\n",
    "print(title+name)"
   ]
  },
  {
   "cell_type": "code",
   "execution_count": null,
   "metadata": {},
   "outputs": [],
   "source": []
  }
 ],
 "metadata": {
  "kernelspec": {
   "display_name": "Python 3",
   "language": "python",
   "name": "python3"
  },
  "language_info": {
   "codemirror_mode": {
    "name": "ipython",
    "version": 3
   },
   "file_extension": ".py",
   "mimetype": "text/x-python",
   "name": "python",
   "nbconvert_exporter": "python",
   "pygments_lexer": "ipython3",
   "version": "3.6.8"
  }
 },
 "nbformat": 4,
 "nbformat_minor": 2
}
