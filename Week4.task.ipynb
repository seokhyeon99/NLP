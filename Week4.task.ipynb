{
 "cells": [
  {
   "cell_type": "markdown",
   "metadata": {},
   "source": [
    "### Tasks\n",
    "\n",
    "1) Think of more stemming rules\n",
    "\n",
    "2) Expand slang words in `code/data/slangWords.txt`\n",
    "- asap --> as soon as possible\n",
    "\n",
    "3) Clean, tokenize, stemming and count type/token `code/data/HTML.txt`"
   ]
  },
  {
   "cell_type": "code",
   "execution_count": 1,
   "metadata": {},
   "outputs": [
    {
     "name": "stdout",
     "output_type": "stream",
     "text": [
      "/data/critt/shared/fall2021/slee122/data/slangWords.txt\n"
     ]
    }
   ],
   "source": [
    "# task:\n",
    "# read slangWords.txt into a dictionary\n",
    "# map slang words into a dictionary\n",
    "# substitute slang words by full forms in the message text\n",
    "from pathlib import Path\n",
    "import re\n",
    "\n",
    "# get the path to HTML file\n",
    "f = Path('.') / 'data/slangWords.txt'\n",
    "\n",
    "print(f.resolve())\n",
    "\n",
    "# read the file\n",
    "with f.open('r', encoding='utf-8') as fhin:\n",
    "    data = fhin.read()\n",
    "\n",
    "msg = \"I hope you enjoyed the conference in Melbourne. BTW Any suggestions for a good hotel there?\"\n",
    "\n"
   ]
  },
  {
   "cell_type": "code",
   "execution_count": 2,
   "metadata": {},
   "outputs": [
    {
     "name": "stdout",
     "output_type": "stream",
     "text": [
      "[('faik', '=', 'as far as i know'), ('afk', '=', 'away from keyboard'), ('asap', '=', 'as soon as possible'), ('atk', '=', 'at the keyboard'), ('atm', '=', 'at the moment'), ('a3', '=', 'anytime, anywhere, anyplace'), ('bak', '=', 'back at keyboard'), ('bbl', '=', 'be back later'), ('bbs', '=', 'be back soon'), ('bfn', '=', 'bye for now'), ('b4n', '=', 'bye for now'), ('brb', '=', 'be right back'), ('brt', '=', 'be right there'), ('btw', '=', 'by the way'), ('b4', '=', 'before'), ('b4n', '=', 'bye for now'), ('cu', '=', 'see you'), ('cul8r', '=', 'see you later'), ('cya', '=', 'see you'), ('faq', '=', 'frequently asked questions'), ('fc', '=', 'fingers crossed'), ('fwiw', '=', \"for what it's worth\"), ('fyi', '=', 'for your information'), ('gal', '=', 'get a life'), ('gg', '=', 'good game'), ('gn', '=', 'good night'), ('gmta', '=', 'great minds think alike'), ('gr8', '=', 'great!'), ('g9', '=', 'genius'), ('ic', '=', 'i see'), ('icq', '=', 'i seek you (also a chat program)'), ('ilu', '=', 'ilu: i love you'), ('imho', '=', 'in my honest/humble opinion'), ('imo', '=', 'in my opinion'), ('iow', '=', 'in other words'), ('irl', '=', 'in real life'), ('kiss', '=', 'keep it simple, stupid'), ('ldr', '=', 'long distance relationship'), ('lmao', '=', 'laugh my a.. off'), ('lol', '=', 'laughing out loud'), ('ltns', '=', 'long time no see'), ('luv', '=', 'love'), ('l8r', '=', 'later'), ('mte', '=', 'my thoughts exactly'), ('m8', '=', 'mate'), ('nrn', '=', 'no reply necessary'), ('oic', '=', 'oh i see'), ('pita', '=', 'pain in the a..'), ('prt', '=', 'party'), ('prw', '=', 'parents are watching'), ('qpsa?\\tque pasa?\\nrofl', '=', 'rolling on the floor laughing'), ('roflol', '=', 'rolling on the floor laughing out loud'), ('rotflmao', '=', 'rolling on the floor laughing my a.. off'), ('sk8', '=', 'skate'), ('stats', '=', 'your sex and age'), ('asl', '=', 'age, sex, location'), ('thx', '=', 'thank you'), ('ttfn', '=', 'ta-ta for now!'), ('ttyl', '=', 'talk to you later'), ('u', '=', 'you'), ('u2', '=', 'you too'), ('u4e', '=', 'yours for ever'), ('wb', '=', 'welcome back'), ('wtf', '=', 'what the f...'), ('wtg', '=', 'way to go!'), ('wuf', '=', 'where are you from?'), ('w8', '=', 'wait...'), ('7k', '=', 'sick:-d laugher')]\n"
     ]
    }
   ],
   "source": [
    "m = re.findall(\"([^\\n][^=]*)(=)([^\\n]*)\", data)\n",
    "\n",
    "print(m)\n",
    "\n"
   ]
  },
  {
   "cell_type": "code",
   "execution_count": 3,
   "metadata": {},
   "outputs": [
    {
     "name": "stdout",
     "output_type": "stream",
     "text": [
      "{'FAIK': 'as far as i know', 'AFK': 'away from keyboard', 'ASAP': 'as soon as possible', 'ATK': 'at the keyboard', 'ATM': 'at the moment', 'A3': 'anytime, anywhere, anyplace', 'BAK': 'back at keyboard', 'BBL': 'be back later', 'BBS': 'be back soon', 'BFN': 'bye for now', 'B4N': 'bye for now', 'BRB': 'be right back', 'BRT': 'be right there', 'BTW': 'by the way', 'B4': 'before', 'CU': 'see you', 'CUL8R': 'see you later', 'CYA': 'see you', 'FAQ': 'frequently asked questions', 'FC': 'fingers crossed', 'FWIW': \"for what it's worth\", 'FYI': 'for your information', 'GAL': 'get a life', 'GG': 'good game', 'GN': 'good night', 'GMTA': 'great minds think alike', 'GR8': 'great!', 'G9': 'genius', 'IC': 'i see', 'ICQ': 'i seek you (also a chat program)', 'ILU': 'ilu: i love you', 'IMHO': 'in my honest/humble opinion', 'IMO': 'in my opinion', 'IOW': 'in other words', 'IRL': 'in real life', 'KISS': 'keep it simple, stupid', 'LDR': 'long distance relationship', 'LMAO': 'laugh my a.. off', 'LOL': 'laughing out loud', 'LTNS': 'long time no see', 'LUV': 'love', 'L8R': 'later', 'MTE': 'my thoughts exactly', 'M8': 'mate', 'NRN': 'no reply necessary', 'OIC': 'oh i see', 'PITA': 'pain in the a..', 'PRT': 'party', 'PRW': 'parents are watching', 'QPSA?\\tQUE PASA?\\nROFL': 'rolling on the floor laughing', 'ROFLOL': 'rolling on the floor laughing out loud', 'ROTFLMAO': 'rolling on the floor laughing my a.. off', 'SK8': 'skate', 'STATS': 'your sex and age', 'ASL': 'age, sex, location', 'THX': 'thank you', 'TTFN': 'ta-ta for now!', 'TTYL': 'talk to you later', 'U': 'you', 'U2': 'you too', 'U4E': 'yours for ever', 'WB': 'welcome back', 'WTF': 'what the f...', 'WTG': 'way to go!', 'WUF': 'where are you from?', 'W8': 'wait...', '7K': 'sick:-d laugher'}\n"
     ]
    }
   ],
   "source": [
    "slangs = {}\n",
    "for i in range(len(m)):\n",
    "    #slangs[m[i][0]] = m[i][2]\n",
    "    slangs[m[i][0].upper()] = m[i][2]\n",
    "    \n",
    "print(slangs)"
   ]
  },
  {
   "cell_type": "code",
   "execution_count": 4,
   "metadata": {},
   "outputs": [
    {
     "name": "stdout",
     "output_type": "stream",
     "text": [
      "I hope you enjoyed the conference in Melbourne. by the way Any suggestions for a good hotel there?\n"
     ]
    }
   ],
   "source": [
    "for i in range(len(slangs.keys())):\n",
    "    msg = re.sub(list(slangs.keys())[i], list(slangs.values())[i] , msg)\n",
    "print(msg)"
   ]
  },
  {
   "cell_type": "code",
   "execution_count": 5,
   "metadata": {},
   "outputs": [
    {
     "name": "stdout",
     "output_type": "stream",
     "text": [
      "/data/critt/shared/fall2021/slee122/data/HTML.txt\n",
      "Tokens:4610, Types:393\n",
      "Tokens:4610, Types:393\n",
      "{'', 'before', \"women's\", 'Dick', 'prison', 'VOICES:', 'period,', 'October', 'sharp', 'decorated', 'about', 'months', 'chose', 'serial', 'life', 'seriousness', 'like', '\"prevent', '26', 'others', 'Athlete', 'truth', 'over', '13', 'is', 'fired', 'Nassar?', 'Published', 'Mr', 'he', 'bury', 'children,', 'point', 'Raisman', 'powerful', 'On', '2017.', 'The', 'led', '\"They', 'years', 'published', 'report', '2019', 'failure', 'February', 'hour', 'abuser', 'against', 'sex', 'for', 'investigate', 'abused', 'continue', 'so', '25', 'starting', 'be', 'abuse.', 'victim', 'General', '10', 'Department', 'more', 'A', 'girls', 'two', 'page', 'errors,', '2018', 'later', 'their', 'team', 'said', 'take', 'you', 'lied', 'June', 'disappointing.', 'winner', 'Last', 'Committee', 'harm', 'Director', 'link', 'expected', 'system', 'ago', 'wrote', 'disgraced', 'Reuters', 'confronted', 'Games,', '\"If', 'January', 'me', 'when', 'only', 'London', \"CEO's\", 'sexually', 'Senate', 'which', 'States', '\"relieved\"', 'never', '2020', 'documentary', 'most', 'mistakes,', 'statements', 'gave', 'Inspector', 'Biles:', 'scandal', 'sports', '\"What', 'to', 'missteps', ',', 'long-awaited', 'out', 'media', 'themselves', 'US', 'numerous', 'won', 'Aly', 'In', 'despite', 'women', 'office', 'interviewed', 'week,', 'old.', 'Gymnastics', 'drawer?\"', 'serving', 'whenever', 'this', 'up', 'are', 'policy', 'forward', 'chance,', 'Share', 'USA', 'seven-year', 'swift', 'deeply', 'Nasser,', 'case', 'as', 'found', 'convicted', 'could', 'doctor,', 'initially', 'national', 'herself', 'failed', 'Confronted', 'Indianapolis', 'why', 'allowed', 'a', 'molester,\"', 'Maroney', 'SCATHING', 'said.', 'first', 'slow', 'agency', \"'empowered'\", '330', 'They', 'Judiciary', 'sexual', '-', '2', 'keep', '119-page', 'enabled', 'committee.', 'Why', '2013', 'Abuse', 'Justice', 'Wray', 'failings,', '156', 'explored', 'allow', 'prosecuted', 'speaking', 'girls.', 'source,', 'similar', \"abuse'\", 'officials', 'lie', 'About', 'caption', \"Nassar's\", 'an', 'by', 'field', '\"like', 'Wray.', 'What', 'gold', 'had', 'Twitter', 'defend', 'child', 'evidence', '200', 'while', 'agents,', 'severe,\"', 'REPORT:', 'After', 'Biles', 'predator', 'silence,', 'upon', 'United', 'feeling', 'cover', 'criticised', 'Images', 'our', '24', 'respond.', 'July,', 'long?', 'testified', 'after', 'Maroney,', 'Former', 'find', 'Christopher', 'total,', 'court', 'former', 'added.', 'with', 'her', 'would', 'McKayla', 'misconduct.', 'out,', 'State', 'going', 'He', 'hearing', '\"I', 'high', 'the', '2012', 'remarks', 'Topics', 'at', 'story', 'Ms', '2018,', 'that', 'Gymnast', 'jail.', 'Related', 'what', 'spoken', 'pressure\"', 'Durbin', 'testified.', 'interviews', 'in', 'reporting', 'come', 'questioning', \"'I\", 'face', 'one', 'University.', 'long.', 'questions', 'own', 'Simone', 'experience', 'Nassar.', 'FBI,', 'doctor', 'it', 'image', \"'monster'\", 'committee', 'blame', 'cover-ups', 'impact', 'all-time.', 'More', 'have', 'told', 'fabricate,', 'gymnast', 'suffered', '\"a', 'criticises', 'medal', 'tragedies\".', 'Maggie', 'abusing', 'if', 'and', 'Copy', 'I', 'sentence', 'teammates', 'breaking', 'agents', 'been', 'gymnasts', 'those', 'appeared', '\\'treated\\',\"', 'abuse,\"', 'Nassar,', 'consequences', 'allegations', 'Getty', 'has', 'on', 'was', 'Wednesday,', 'examine', 'sharing', 'detailing', 'during', 'violated', 'hands', 'reported.', 'investigation', \"Wednesday's\", 'Olympic', 'profile', 'lot', 'Chair', 'Elite', \"FBI's\", 'along', 'close', 'seemed', 'into', 'FBI', 'Michigan', 'new', 'gymnastics', 'called', 'Nassar', 'some', 'encourage', 'April', 'also', 'wherever', 'entire', 'Nichols', 'of', 'man', 'future,', '1', 'committee,', 'Larry', 'his', 'speaks', 'being', '\"It', 'examining', 'shortcomings', 'Biles,', 'team.', 'she', 'sentences', 'August', 'perpetrated', 'who', 'than', 'were', 'opened.', 'accused', 'guesswork\",', 'abuse', 'will', 'protect'}\n"
     ]
    }
   ],
   "source": [
    "# task:\n",
    "# read HTML.txt from data directory (it is taken from https://www.bbc.com/news/world-us-canada-58573887)\n",
    "# - clean text\n",
    "# - tokenize text\n",
    "# - apply stemming rules\n",
    "# - count token / type ratio\n",
    "\n",
    "\n",
    "from pathlib import Path\n",
    "import re\n",
    "\n",
    "# get the path to HTML file\n",
    "p = Path('.') / 'data/HTML.txt'\n",
    "\n",
    "f = p\n",
    "print(f.resolve())\n",
    "\n",
    "# read the file\n",
    "with f.open('r', encoding='utf-8') as fhin:\n",
    "    data = fhin.read()\n",
    "    \n",
    "data1 = re.sub(\"<[^>]*>\", \" \" , data)\n",
    "data1 = re.sub(\"&lt;[^&]*&gt;\", \"\" , data1)\n",
    "\n",
    "    \n",
    "data2 = re.split(\"\\s\", data1)\n",
    "print(f\"Tokens:{len(data1)}, Types:{len(set(data2))}\")\n",
    "\n",
    "print(f\"Tokens:{len(data1)}, Types:{len(set(data2))}\\n{set(data2)}\")\n",
    "\n",
    "#print(data1)\n",
    "\n"
   ]
  },
  {
   "cell_type": "code",
   "execution_count": 6,
   "metadata": {},
   "outputs": [
    {
     "name": "stdout",
     "output_type": "stream",
     "text": [
      "   Simone Biles: 'I blame system that enabled Larry Nassar abuse'     Published          1 hour ago                Share              close      Share page          Copy link    About sharing       Related Topics     Larry Nassar sex abuse scandal                   image source,  Getty Images        Elite US gymnast Simone Biles has testified before the Senate about abuse she suffered at the hands of disgraced former team doctor, Larry Nassar.        Former teammates Aly Raisman and McKayla Maroney also appeared before the committee, along with FBI Director Christopher Wray.      The committee is examining shortcomings in the FBI's investigation into Nassar, later convicted of sexually abusing girls.      He is serving a life sentence in jail.      \"I blame Larry Nasser, and I also blame an entire system that enabled and perpetrated his abuse,\" said Ms Biles, the most decorated Olympic gymnast of all-time.      \"If you allow a predator to harm children, the consequences will be swift and severe,\" she added.          SCATHING REPORT:  FBI failed to investigate USA Gymnastics abuser   VOICES:  What it was like to face 'monster' doctor in court         Gymnast Maggie Nichols - the first victim to report her abuse to USA Gymnastics - also testified.       They were some of the more than 200 women who gave powerful impact statements to a court in 2018, detailing Nassar's abuse when he was the sports doctor of the United States women's national gymnastics team.       A long-awaited report into the FBI's investigation , which was published in July, found numerous missteps and cover-ups by FBI agents, which allowed Nassar's abuse to continue for months after the case was first opened.      The 119-page report by the Department of Justice Inspector General found that despite the seriousness of the allegations against Nassar, the FBI field office in Indianapolis had been slow to respond.      Confronted by their mistakes, two FBI officials lied during interviews to cover up their errors, the report said. Last week, one of those officials was fired by the FBI, US media reported.               image source,  Reuters    image caption Olympic gymnasts Simone Biles, McKayla Maroney, Aly Raisman and Maggie Nichols      On Wednesday, Ms Raisman criticised the FBI's investigation as being \"like guesswork\", while Ms Maroney - who was the only victim initially interviewed by the agency - called her experience deeply disappointing.        \"They chose to fabricate, to lie about what I said and protect a serial child molester,\" Ms Maroney told the committee. \"What is the point of reporting abuse if our own FBI agents are going to take it upon themselves to bury that report in a drawer?\"      Chair Dick Durbin said Wednesday's Senate Judiciary Committee hearing would examine what had led to the failure of the FBI's investigation to \"prevent future, similar tragedies\".      Mr Wray is expected to face sharp questioning on the failings, and why agents found to have violated FBI policy were never prosecuted for their misconduct.      In total, Nassar was accused of sexual abuse by more than 330 women and girls at USA Gymnastics and Michigan State University.      Olympic gold medal winner Simone Biles is the most high profile victim to have spoken out about his abuse. After breaking her silence, Ms Biles said she was \"relieved\" after speaking out, after feeling \"a lot of pressure\" to keep the truth to herself for so long.      McKayla Maroney, who won gold at the London 2012 Olympic Games, has said she was sexually abused by Nassar over a seven-year period, starting when she was 13 years old.        \"It seemed whenever and wherever this man could find the chance, I was 'treated',\" she wrote on Twitter in 2017.               media caption Simone Biles speaks in 2018 about why sharing the abuse story will encourage others to come forward        Related Topics       Simone Biles    FBI    Larry Nassar sex abuse scandal    United States          More on this story             The 156 women who confronted a predator          Published   25 January 2018                   Why are some prison sentences so long?          Published   1 August 2013                   Abuse evidence 'empowered' me - Biles          Published   10 October 2018                   Athlete A - the questions explored in new Nassar scandal documentary          Published   24 June 2020                   Raisman criticises CEO's Nassar remarks          Published   26 April 2019                         What was it like to defend Larry Nassar?          Published   2 February 2018             \n"
     ]
    }
   ],
   "source": [
    "print(data1)\n"
   ]
  },
  {
   "cell_type": "code",
   "execution_count": null,
   "metadata": {},
   "outputs": [],
   "source": []
  }
 ],
 "metadata": {
  "kernelspec": {
   "display_name": "Python 3",
   "language": "python",
   "name": "python3"
  },
  "language_info": {
   "codemirror_mode": {
    "name": "ipython",
    "version": 3
   },
   "file_extension": ".py",
   "mimetype": "text/x-python",
   "name": "python",
   "nbconvert_exporter": "python",
   "pygments_lexer": "ipython3",
   "version": "3.6.8"
  }
 },
 "nbformat": 4,
 "nbformat_minor": 2
}
